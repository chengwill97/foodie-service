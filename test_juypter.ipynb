{
 "cells": [
  {
   "cell_type": "code",
   "execution_count": 57,
   "id": "822fcf5a-d527-428c-afb1-4ab8b3d67e2f",
   "metadata": {},
   "outputs": [
    {
     "data": {
      "text/plain": [
       "'\\n                        Instructions for Nutrition Info\\n                    \\n×\\nInstructions for Nutrition Info\\nLooking for the nutrition info for one food item?\\n                                        Click on the Nutrition Info button located next to the food item. \\n                                This will give you a Nutrition Facts label and ingredient list for the one food item.\\n                                    \\nLooking for the nutrition information for your entire meal?\\n                                        Check the box next to each food item. \\n                                Enter the quantity on the right side. \\n                                Click on Create Nutrition Report on the bottom of the page. \\n                                This will give you the nutrition profile for all foods chosen.\\n                                    \\nClose\\nMenus - Livingston Dining Commons\\nMenu Date\\nSaturday, February 1, 2025\\nSunday, February 2, 2025\\nMonday, February 3, 2025\\nTuesday, February 4, 2025\\nWednesday, February 5, 2025\\nThursday, February 6, 2025\\nFriday, February 7, 2025\\n                                        Breakfast\\n                                        \\n                                    \\nLunch \\nDinner \\nKnight Room \\nItem\\nPortion Size\\nNutritional Info\\nQTY\\n-- YOGURT BAR --\\n\\xa0\\n                                    COTTAGE CHEESE\\n \\xa02\\xa0OZ\\nNutritional Information\\n\\xa0\\n\\xa0\\n                                    CRAISINS\\n                                                            \\n                                       \\n                                               \\xa0 \\xa0\\n \\xa01\\xa0OZ\\nNutritional Information\\n\\xa0\\n\\xa0\\n                                    GRANOLA OATS & HONEY\\n                                                            \\n                                       \\n                                               \\xa0 \\xa0\\n \\xa02\\xa0OZ\\nNutritional Information\\n\\xa0\\n\\xa0\\n                                    PLAIN GREEK CHOBANI YOGURT\\n                                                            \\n                                       \\n                                               \\xa0 \\xa0\\n \\xa02\\xa0OZ\\nNutritional Information\\n\\xa0\\n\\xa0\\n                                    PUMPKIN SEEDS\\n \\xa01\\xa0OZ\\nNutritional Information\\n\\xa0\\n\\xa0\\n                                    RAISINS\\n \\xa01\\xa0OZ\\nNutritional Information\\n\\xa0\\n\\xa0\\n                                    STRAWBERRY YOGURT\\n                                                            \\n                                       \\n                                               \\xa0 \\xa0\\n \\xa02\\xa0OZ\\nNutritional Information\\n\\xa0\\n\\xa0\\n                                    SUNFLOWER SEEDS\\n \\xa01\\xa0OZ\\nNutritional Information\\n\\xa0\\n\\xa0\\n                                    VANILLA YOGURT\\n                                                            \\n                                       \\n                                               \\xa0 \\xa0\\n \\xa02\\xa0OZ\\nNutritional Information\\n\\xa0\\n-- FRUIT --\\n\\xa0\\n                                    BANANAS\\n                                                            \\n                                       \\n                                               \\xa0 \\xa0\\n \\xa01\\xa0EACH\\nNutritional Information\\n\\xa0\\n\\xa0\\n                                    CANTALOUPE MELON\\n                                                            \\n                                       \\n                                               \\xa0 \\xa0\\n \\xa01\\xa0SLICE\\nNutritional Information\\n\\xa0\\n\\xa0\\n                                    CUT HONEYDEW\\n                                                            \\n                                       \\n                                               \\xa0 \\xa0\\n \\xa01\\xa0OZ\\nNutritional Information\\n\\xa0\\n\\xa0\\n                                    CUT PINEAPPLE\\n                                                            \\n                                       \\n                                               \\xa0 \\xa0\\n \\xa01\\xa0OZ\\nNutritional Information\\n\\xa0\\n\\xa0\\n                                    GOLDEN DELICIOUS APPLES\\n \\xa01\\xa0EACH\\nNutritional Information\\n\\xa0\\n\\xa0\\n                                    GRANNY SMITH APPLES\\n                                                            \\n                                       \\n                                               \\xa0 \\xa0\\n \\xa01\\xa0EACH\\nNutritional Information\\n\\xa0\\n\\xa0\\n                                    GREEN SEEDLESS GRAPES\\n                                                            \\n                                       \\n                                               \\xa0 \\xa0\\n \\xa01\\xa0BUNCH\\nNutritional Information\\n\\xa0\\n\\xa0\\n                                    RED DELICIOUS APPLES\\n                                                            \\n                                       \\n                                               \\xa0 \\xa0\\n \\xa01\\xa0EACH\\nNutritional Information\\n\\xa0\\n\\xa0\\n                                    RED GRAPEFRUIT\\n                                                            \\n                                       \\n                                               \\xa0 \\xa0\\n \\xa01\\xa0HALF\\nNutritional Information\\n\\xa0\\n\\xa0\\n                                    RED SEEDLESS  GRAPES\\n                                                            \\n                                       \\n                                               \\xa0 \\xa0\\n \\xa01\\xa0BUNCH\\nNutritional Information\\n\\xa0\\n\\xa0\\n                                    WATERMELON\\n                                                            \\n                                       \\n                                               \\xa0 \\xa0\\n \\xa01\\xa0WEDGE\\nNutritional Information\\n\\xa0\\n\\xa0\\n                                    WHOLE ORANGES\\n                                                            \\n                                       \\n                                               \\xa0 \\xa0\\n \\xa01\\xa0EACH\\nNutritional Information\\n\\xa0\\n-- BREADS --\\n\\xa0\\n                                    ENGLISH MUFFIN\\n \\xa01\\xa0EACH\\nNutritional Information\\n\\xa0\\n\\xa0\\n                                    PANINI BREAD\\n \\xa01\\xa0EACH\\nNutritional Information\\n\\xa0\\n\\xa0\\n                                    PITA BREAD\\n \\xa01\\xa0EACH\\nNutritional Information\\n\\xa0\\n\\xa0\\n                                    SLICED PUMPERNICKEL BREAD\\n \\xa02\\xa0SLICE\\nNutritional Information\\n\\xa0\\n\\xa0\\n                                    SLICED RYE BREAD\\n \\xa02\\xa0SLICE\\nNutritional Information\\n\\xa0\\n\\xa0\\n                                    SLICED WHITE BREAD\\n \\xa01\\xa0SLICE\\nNutritional Information\\n\\xa0\\n\\xa0\\n                                    SLICED WHOLE WHEAT BREAD\\n \\xa02\\xa0SLICES\\nNutritional Information\\n\\xa0\\n\\xa0\\n                                    VARIETY WRAPS\\n \\xa01\\xa0EACH\\nNutritional Information\\n\\xa0\\nLegend - Carbon Footprint:     Low \\xa0\\n                                                 Medium \\xa0\\n                                                 High\\n* Consumer Responsibility *\\n                  \\n                        Ingredients and nutritional content may vary. Manufacturers may change their product formulation or consistency of ingredients without our knowledge, and product availability may fluctuate. While we make every effort to identify ingredients, we cannot assure against these contingencies. Therefore, it is ultimately the responsibility of the consumer to judge whether or not to question ingredients or choose to eat selected foods. Food-allergic guests and those with specific concerns should speak with a dining services manager for individualized assistance. Please note that all ingredients and food items are subject to allergen cross contact.\\nQuick Links\\nBusch Dining Hall\\nLivingston Dining Hall\\nNeilson Dining Hall\\nThe Atrium\\nNutritionist\\n'"
      ]
     },
     "execution_count": 57,
     "metadata": {},
     "output_type": "execute_result"
    }
   ],
   "source": [
    "# Step 1: Install BeautifulSoup and requests\n",
    "# Open your terminal or command prompt and run the following commands:\n",
    "# pip install beautifulsoup4\n",
    "# pip install requests\n",
    "\n",
    "# Step 2: Import BeautifulSoup and requests\n",
    "from bs4 import BeautifulSoup\n",
    "import requests\n",
    "import re\n",
    "\n",
    "# Step 3: Load the HTML content\n",
    "url = 'https://menuportal23.dining.rutgers.edu/foodpronet/pickmenu.aspx?sName=Rutgers+University+Dining&locationNum=03&locationName=Livingston+Dining+Commons&naFlag=1'\n",
    "response = requests.get(url)\n",
    "html_content = response.text\n",
    "\n",
    "# Step 4: Create a BeautifulSoup object\n",
    "soup = BeautifulSoup(html_content, 'html.parser')\n",
    "\n",
    "# Step 5: Extract text from HTML\n",
    "# Example: Extract the text from a specific element\n",
    "element = soup.find('div', class_='container main-content')\n",
    "text_content = element.get_text()\n",
    "\n",
    "# Step 6: Print the extracted text\n",
    "re.sub('\\n+','\\n', text_content.replace('\\t', '').replace('\\r', ''))"
   ]
  },
  {
   "cell_type": "code",
   "execution_count": 4,
   "id": "916aec53-ef79-4c83-9e8f-68729cc51e41",
   "metadata": {},
   "outputs": [
    {
     "name": "stdout",
     "output_type": "stream",
     "text": [
      "sending Content-Type: text/plain; charset=\"us-ascii\"\n",
      "MIME-Version: 1.0\n",
      "Content-Transfer-Encoding: 7bit\n",
      "\n",
      "From: whaleboy97@gmail.com\n",
      "To: 8564051450\n",
      "Subject: testing once more\n",
      "('whaleboy97@gmail.com', '8564051450@vtext.com', 'Content-Type: text/plain; charset=\"us-ascii\"\\nMIME-Version: 1.0\\nContent-Transfer-Encoding: 7bit\\n\\nFrom: whaleboy97@gmail.com\\nTo: 8564051450\\nSubject: testing once more')\n"
     ]
    }
   ],
   "source": [
    "import smtplib\n",
    "from email.mime.text import MIMEText\n",
    " \n",
    "CARRIERS = {\n",
    "    \"att\": \"@mms.att.net\",\n",
    "    \"tmobile\": \"@tmomail.net\",\n",
    "    \"verizon\": \"@vtext.com\",\n",
    "    \"sprint\": \"@messaging.sprintpcs.com\"\n",
    "}\n",
    " \n",
    "EMAIL = \"whaleboy97@gmail.com\"\n",
    "PASSWORD = \"mlun elbr mqdk lweo\"\n",
    " \n",
    "def send_message(phone_number, carrier, message):\n",
    "    recipient = phone_number + CARRIERS[carrier]\n",
    "    auth = (EMAIL, PASSWORD)\n",
    " \n",
    "    server = smtplib.SMTP(\"smtp.gmail.com\", 587)\n",
    "    server.starttls()\n",
    "    server.login(auth[0], auth[1])\n",
    "    print((auth[0], recipient, message))\n",
    "    server.sendmail(auth[0], recipient, message)\n",
    "    server.quit()\n",
    " \n",
    " \n",
    "if __name__ == \"__main__\":\n",
    "    phone_number = \"8564051450\"\n",
    "    carrier = \"verizon\"\n",
    "    message = \"testing once more\"\n",
    "\n",
    "    msg = MIMEText(f'From: whaleboy97@gmail.com\\nTo: {phone_number}\\nSubject: {message}')\n",
    "\n",
    "    print(f'sending {msg}')\n",
    "    \n",
    "    send_message(phone_number, carrier, msg.as_string())"
   ]
  },
  {
   "cell_type": "code",
   "execution_count": null,
   "id": "fe97bfc2-8514-459b-aa2e-12a1fb0c137d",
   "metadata": {},
   "outputs": [],
   "source": []
  }
 ],
 "metadata": {
  "kernelspec": {
   "display_name": "Python 3 (ipykernel)",
   "language": "python",
   "name": "python3"
  },
  "language_info": {
   "codemirror_mode": {
    "name": "ipython",
    "version": 3
   },
   "file_extension": ".py",
   "mimetype": "text/x-python",
   "name": "python",
   "nbconvert_exporter": "python",
   "pygments_lexer": "ipython3",
   "version": "3.13.1"
  }
 },
 "nbformat": 4,
 "nbformat_minor": 5
}
